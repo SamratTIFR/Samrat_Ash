{
 "cells": [
  {
   "cell_type": "code",
   "execution_count": 1,
   "id": "c71a6fc5",
   "metadata": {},
   "outputs": [],
   "source": [
    "import numpy as np\n",
    "from sympy import Matrix\n",
    "import scipy\n",
    "import scipy.linalg\n",
    "import time"
   ]
  },
  {
   "cell_type": "markdown",
   "id": "154937fc",
   "metadata": {},
   "source": [
    "# Question 11"
   ]
  },
  {
   "cell_type": "markdown",
   "id": "7b9bd711",
   "metadata": {},
   "source": [
    "# System 1  "
   ]
  },
  {
   "cell_type": "code",
   "execution_count": 3,
   "id": "bb122a6b",
   "metadata": {},
   "outputs": [
    {
     "name": "stdout",
     "output_type": "stream",
     "text": [
      "Solution of the above system of equations: [ 0.03508772 -0.23684211  0.65789474]\n"
     ]
    }
   ],
   "source": [
    "A1=np.array([[3,-1,1],[3,6,2],[3,3,7]])\n",
    "b1=np.array([1,0,4])\n",
    "x1=np.linalg.solve(A1,b1)\n",
    "print(\"Solution of the above system of equations:\",x1)"
   ]
  },
  {
   "cell_type": "markdown",
   "id": "0dff6ddc",
   "metadata": {},
   "source": [
    "# System 2"
   ]
  },
  {
   "cell_type": "code",
   "execution_count": 4,
   "id": "f1ec762f",
   "metadata": {},
   "outputs": [
    {
     "name": "stdout",
     "output_type": "stream",
     "text": [
      "Solution of the above system of equations: [0.99578947 0.95789474 0.79157895]\n"
     ]
    }
   ],
   "source": [
    "A2=np.array([[10,-1,0],[-1,10,-2],[0,-2,10]])\n",
    "b2=np.array([9,7,6])\n",
    "x2=np.linalg.solve(A2,b2)\n",
    "print(\"Solution of the above system of equations:\",x2)"
   ]
  },
  {
   "cell_type": "markdown",
   "id": "6aa47d64",
   "metadata": {},
   "source": [
    "# System 3"
   ]
  },
  {
   "cell_type": "code",
   "execution_count": 5,
   "id": "7c76fc10",
   "metadata": {},
   "outputs": [
    {
     "name": "stdout",
     "output_type": "stream",
     "text": [
      "Solution of the above system of equations: [-0.79764706  2.79529412 -0.25882353 -2.25176471]\n"
     ]
    }
   ],
   "source": [
    "A3=np.array([[10,5,0,0],[5,10,-4,0],[0,-4,8,-1],[0,0,-1,5]])\n",
    "b3=np.array([6,25,-11,-11])\n",
    "x3=np.linalg.solve(A3,b3)\n",
    "print(\"Solution of the above system of equations:\",x3)"
   ]
  },
  {
   "cell_type": "markdown",
   "id": "44b7c616",
   "metadata": {},
   "source": [
    "# System 4"
   ]
  },
  {
   "cell_type": "code",
   "execution_count": 6,
   "id": "9bd8b595",
   "metadata": {
    "scrolled": true
   },
   "outputs": [
    {
     "name": "stdout",
     "output_type": "stream",
     "text": [
      "Solution of the above system of equations: [ 0.8        -1.48571429  2.          1.82857143  2.28571429]\n"
     ]
    }
   ],
   "source": [
    "A4=np.array([[4,1,1,0,1],[-1,-2,1,1,0],[2,1,5,-1,-1],[-1,-1,-1,4,0],[0,2,-1,1,4]])\n",
    "b4=np.array([6,6,6,6,6])\n",
    "x4=np.linalg.solve(A4,b4)\n",
    "print(\"Solution of the above system of equations:\",x4)"
   ]
  },
  {
   "cell_type": "markdown",
   "id": "34a19528",
   "metadata": {},
   "source": [
    "# Question 13 "
   ]
  },
  {
   "cell_type": "code",
   "execution_count": 49,
   "id": "7d0feee4",
   "metadata": {},
   "outputs": [
    {
     "data": {
      "text/latex": [
       "$\\displaystyle \\left[\\begin{matrix}3 & -1 & 1\\\\3 & 6 & 2\\\\3 & 3 & 7\\end{matrix}\\right]$"
      ],
      "text/plain": [
       "Matrix([\n",
       "[3, -1, 1],\n",
       "[3,  6, 2],\n",
       "[3,  3, 7]])"
      ]
     },
     "execution_count": 49,
     "metadata": {},
     "output_type": "execute_result"
    }
   ],
   "source": [
    "A1=np.array([[3,-1,1],[3,6,2],[3,3,7]])\n",
    "P,L,U=scipy.linalg.lu(A1)\n",
    "Matrix(A1)"
   ]
  },
  {
   "cell_type": "code",
   "execution_count": 50,
   "id": "ae8861d6",
   "metadata": {},
   "outputs": [
    {
     "data": {
      "text/latex": [
       "$\\displaystyle \\left[\\begin{matrix}1.0 & 0 & 0\\\\0 & 1.0 & 0\\\\0 & 0 & 1.0\\end{matrix}\\right]$"
      ],
      "text/plain": [
       "Matrix([\n",
       "[1.0,   0,   0],\n",
       "[  0, 1.0,   0],\n",
       "[  0,   0, 1.0]])"
      ]
     },
     "execution_count": 50,
     "metadata": {},
     "output_type": "execute_result"
    }
   ],
   "source": [
    "Matrix(P)"
   ]
  },
  {
   "cell_type": "code",
   "execution_count": 45,
   "id": "6597f60c",
   "metadata": {},
   "outputs": [
    {
     "data": {
      "text/latex": [
       "$\\displaystyle \\left[\\begin{matrix}1.0 & 0 & 0\\\\1.0 & 1.0 & 0\\\\1.0 & 0.571428571428571 & 1.0\\end{matrix}\\right]$"
      ],
      "text/plain": [
       "Matrix([\n",
       "[1.0,                 0,   0],\n",
       "[1.0,               1.0,   0],\n",
       "[1.0, 0.571428571428571, 1.0]])"
      ]
     },
     "execution_count": 45,
     "metadata": {},
     "output_type": "execute_result"
    }
   ],
   "source": [
    "Matrix(L)"
   ]
  },
  {
   "cell_type": "code",
   "execution_count": 59,
   "id": "9e2ec9ff",
   "metadata": {},
   "outputs": [
    {
     "data": {
      "text/latex": [
       "$\\displaystyle \\left[\\begin{matrix}3.0 & -1.0 & 1.0\\\\0 & 7.0 & 1.0\\\\0 & 0 & 5.42857142857143\\end{matrix}\\right]$"
      ],
      "text/plain": [
       "Matrix([\n",
       "[3.0, -1.0,              1.0],\n",
       "[  0,  7.0,              1.0],\n",
       "[  0,    0, 5.42857142857143]])"
      ]
     },
     "execution_count": 59,
     "metadata": {},
     "output_type": "execute_result"
    }
   ],
   "source": [
    "Matrix(U)"
   ]
  },
  {
   "cell_type": "code",
   "execution_count": 48,
   "id": "0b5a9685",
   "metadata": {},
   "outputs": [
    {
     "data": {
      "text/latex": [
       "$\\displaystyle \\left[\\begin{matrix}3.0 & -1.0 & 1.0\\\\3.0 & 6.0 & 2.0\\\\3.0 & 3.0 & 7.0\\end{matrix}\\right]$"
      ],
      "text/plain": [
       "Matrix([\n",
       "[3.0, -1.0, 1.0],\n",
       "[3.0,  6.0, 2.0],\n",
       "[3.0,  3.0, 7.0]])"
      ]
     },
     "execution_count": 48,
     "metadata": {},
     "output_type": "execute_result"
    }
   ],
   "source": [
    "Matrix(np.dot(L,U))"
   ]
  },
  {
   "cell_type": "markdown",
   "id": "1bbab4cd",
   "metadata": {},
   "source": [
    "##### We see that matrix A1 and matrix LU are same. So, LU decomposition was correct."
   ]
  },
  {
   "cell_type": "code",
   "execution_count": null,
   "id": "23293164",
   "metadata": {},
   "outputs": [],
   "source": []
  },
  {
   "cell_type": "markdown",
   "id": "f25b21e9",
   "metadata": {},
   "source": [
    "# Question 16"
   ]
  },
  {
   "cell_type": "markdown",
   "id": "ad7397f0",
   "metadata": {},
   "source": [
    "### Jacobi Method"
   ]
  },
  {
   "cell_type": "code",
   "execution_count": 16,
   "id": "7d120641",
   "metadata": {},
   "outputs": [
    {
     "name": "stdout",
     "output_type": "stream",
     "text": [
      "37 no of iterations needed to reach true solution within tolerance of 0.01.\n",
      "Final Solution: [ 7.8695057   0.42418287 -0.07302253 -0.53593205  0.01063264]\n"
     ]
    }
   ],
   "source": [
    "A=np.array([[0.2,0.1,1,1,0],[0.1,4,-1,1,-1],[1,-1,60,0,-2],[1,1,0,8,4],[0,-1,-2,4,700]])\n",
    "b=np.array([1,2,3,4,5])\n",
    "#X_actual=np.linalg.solve(A,b).tolist()\n",
    "X_actual=[7.859713071, 0.422926408, -0.073592239, -0.540643016, 0.010626163]\n",
    "n=5\n",
    "X=[]\n",
    "x0=np.zeros(n)\n",
    "X.append(x0)\n",
    "\n",
    "#Initialize\n",
    "xk=np.zeros(n)\n",
    "N=0\n",
    "while N <n:\n",
    "    x=np.zeros(n)\n",
    "    for i in range(n):\n",
    "        xkm1=xk\n",
    "        S=0\n",
    "        for j in range(n):\n",
    "            if (i!=j):\n",
    "                S=S-A[i][j]*xkm1[j]\n",
    "            \n",
    "        x[i]=(S + b[i])/A[i][i]\n",
    "    xk=x\n",
    "    X.append(x)\n",
    "    l=len(X)\n",
    "    N=0\n",
    "    for i in range(n):\n",
    "        if abs(X[l-1][i]-X_actual[i])<0.01:\n",
    "            N=N+1\n",
    "    \n",
    "l=len(X)\n",
    "print(l-1,\"no of iterations needed to reach true solution within tolerance of 0.01.\")\n",
    "print(\"Final Solution:\", X[l-1])"
   ]
  },
  {
   "cell_type": "markdown",
   "id": "80457373",
   "metadata": {},
   "source": [
    "### Gauss-Seidel"
   ]
  },
  {
   "cell_type": "code",
   "execution_count": 17,
   "id": "e861464d",
   "metadata": {},
   "outputs": [
    {
     "name": "stdout",
     "output_type": "stream",
     "text": [
      "18 no of iterations needed to reach true solution within tolerance of 0.01.\n",
      "Final Solution: [7.850914775668225, 0.4228013059532179, -0.07344797467914727, -0.539523257444223, 0.010619997694816878]\n"
     ]
    }
   ],
   "source": [
    "A=np.array([[0.2,0.1,1,1,0],[0.1,4,-1,1,-1],[1,-1,60,0,-2],[1,1,0,8,4],[0,-1,-2,4,700]])\n",
    "b=np.array([1,2,3,4,5])\n",
    "X_actual=[7.859713071, 0.422926408, -0.073592239, -0.540643016, 0.010626163]\n",
    "n=5\n",
    "X=[]\n",
    "x0=np.zeros(n).tolist()\n",
    "X.append(x0)\n",
    "\n",
    "#Initialize\n",
    "xk=np.zeros(n).tolist()\n",
    "\n",
    "N=0\n",
    "while N<n:\n",
    "    x=np.zeros(n).tolist()\n",
    "    for i in range(n):\n",
    "        S=0\n",
    "        for j in range(n):\n",
    "            if (i!=j):\n",
    "                S=S-A[i][j]*xk[j]\n",
    "            \n",
    "        m=(S + b[i])/A[i][i]\n",
    "        xk[i]=m\n",
    "        x[i]=m\n",
    "    X.append(x)\n",
    "    l=len(X)\n",
    "    N=0\n",
    "    for i in range(n):\n",
    "        if abs(X[l-1][i]-X_actual[i])<0.01:\n",
    "            N=N+1\n",
    "    \n",
    "    \n",
    "l=len(X)\n",
    "print(l-1,\"no of iterations needed to reach true solution within tolerance of 0.01.\")\n",
    "print(\"Final Solution:\", X[l-1])"
   ]
  },
  {
   "cell_type": "code",
   "execution_count": null,
   "id": "47f609b5",
   "metadata": {},
   "outputs": [],
   "source": []
  },
  {
   "cell_type": "markdown",
   "id": "b63a89d4",
   "metadata": {},
   "source": [
    "### Relaxation"
   ]
  },
  {
   "cell_type": "code",
   "execution_count": 18,
   "id": "446655df",
   "metadata": {
    "scrolled": false
   },
   "outputs": [
    {
     "name": "stdout",
     "output_type": "stream",
     "text": [
      "7 no of iterations needed to reach true solution within tolerance of 0.01.\n",
      "Final Solution: [7.851527006791953, 0.4227737139591007, -0.07348302578382504, -0.5397836936250394, 0.010622858817903149]\n"
     ]
    }
   ],
   "source": [
    "A=np.array([[0.2,0.1,1,1,0],[0.1,4,-1,1,-1],[1,-1,60,0,-2],[1,1,0,8,4],[0,-1,-2,4,700]])\n",
    "b=np.array([1,2,3,4,5])\n",
    "X_actual=[7.859713071, 0.422926408, -0.073592239, -0.540643016, 0.010626163]\n",
    "n=5\n",
    "X=[]\n",
    "x0=np.zeros(n).tolist()\n",
    "X.append(x0)\n",
    "\n",
    "#Initialize\n",
    "xk=np.zeros(n).tolist()\n",
    "N=0\n",
    "w=1.25\n",
    "while N<n:\n",
    "    x=np.zeros(n).tolist()\n",
    "    for i in range(n):\n",
    "        S=0\n",
    "        for j in range(n):\n",
    "            if (i!=j):\n",
    "                S=S-A[i][j]*xk[j]\n",
    "            \n",
    "        m=(1-w)*xk[i] + w*(S + b[i])/A[i][i]\n",
    "        xk[i]=m\n",
    "        x[i]=m\n",
    "    X.append(x)\n",
    "    l=len(X)\n",
    "    N=0\n",
    "    for i in range(n):\n",
    "        if abs(X[l-1][i]-X_actual[i])<0.01:\n",
    "            N=N+1\n",
    "    \n",
    "l=len(X)\n",
    "print(l-1,\"no of iterations needed to reach true solution within tolerance of 0.01.\")\n",
    "print(\"Final Solution:\", X[l-1])"
   ]
  },
  {
   "cell_type": "markdown",
   "id": "da026ad1",
   "metadata": {},
   "source": [
    "### Conjugate Gradient Methods"
   ]
  },
  {
   "cell_type": "code",
   "execution_count": 22,
   "id": "637a9a12",
   "metadata": {},
   "outputs": [
    {
     "name": "stdout",
     "output_type": "stream",
     "text": [
      "5 no of iterations needed to reach true solution within tolerance of 0.01.\n",
      "Final Solution: [ 7.85971308  0.42292641 -0.07359224 -0.54064302  0.01062616]\n"
     ]
    }
   ],
   "source": [
    "A=np.array([[0.2,0.1,1,1,0],[0.1,4,-1,1,-1],[1,-1,60,0,-2],[1,1,0,8,4],[0,-1,-2,4,700]])\n",
    "b=np.array([1,2,3,4,5])\n",
    "X_actual=[7.859713071, 0.422926408, -0.073592239, -0.540643016, 0.010626163]\n",
    "n=5\n",
    "X=[]\n",
    "x0=np.zeros(n)\n",
    "mod_r=1.0\n",
    "r0=b-np.dot(A,x0)\n",
    "p0=b-np.dot(A,x0)\n",
    "N=0\n",
    "while N<n:\n",
    "    N=np.dot(r0.transpose(),r0)\n",
    "    D=np.dot(np.dot(p0.transpose(),A),p0)\n",
    "    alpha=N/D\n",
    "    x1=x0+alpha*p0\n",
    "    r1=r0-alpha*np.dot(A,p0)\n",
    "    beta=(np.linalg.norm(r1)/np.linalg.norm(r0))**2\n",
    "    p1=r1+beta*p0\n",
    "    p0=p1\n",
    "    x0=x1\n",
    "    r0=r1\n",
    "    X.append(x1)\n",
    "    l=len(X)\n",
    "    N=0\n",
    "    for i in range(n):\n",
    "        if abs(X[l-1][i]-X_actual[i])<0.01:\n",
    "            N=N+1\n",
    "\n",
    "l=len(X)\n",
    "print(l,\"no of iterations needed to reach true solution within tolerance of 0.01.\")\n",
    "print(\"Final Solution:\", X[l-1])"
   ]
  },
  {
   "cell_type": "markdown",
   "id": "e187befd",
   "metadata": {},
   "source": [
    "# Question 17"
   ]
  },
  {
   "cell_type": "markdown",
   "id": "0ee451aa",
   "metadata": {},
   "source": [
    "### QR decomposition"
   ]
  },
  {
   "cell_type": "code",
   "execution_count": 23,
   "id": "29154224",
   "metadata": {},
   "outputs": [
    {
     "data": {
      "text/latex": [
       "$\\displaystyle \\left[\\begin{matrix}8.99999992942521 & -0.000594031912250446\\\\-0.00059403191225076 & 4.00000007057478\\end{matrix}\\right]$"
      ],
      "text/plain": [
       "Matrix([\n",
       "[    8.99999992942521, -0.000594031912250446],\n",
       "[-0.00059403191225076,      4.00000007057478]])"
      ]
     },
     "execution_count": 23,
     "metadata": {},
     "output_type": "execute_result"
    }
   ],
   "source": [
    "A=np.array([[5,-2],[-2,8]])\n",
    "V=np.array([[1,0],[0,1]])\n",
    "S=0\n",
    "n=2\n",
    "N=0\n",
    "A_new=A\n",
    "while N<n*n-n:\n",
    "    Q,R=np.linalg.qr(A_new)\n",
    "    A_new=np.dot(R,Q)\n",
    "    for i in range(n):\n",
    "        for j in range(n):\n",
    "            if (i!=j):\n",
    "                if (abs(A_new[i][j])<0.001) :\n",
    "                    N=N+1\n",
    "Matrix(A_new)"
   ]
  },
  {
   "cell_type": "code",
   "execution_count": 24,
   "id": "cf46c94b",
   "metadata": {},
   "outputs": [
    {
     "name": "stdout",
     "output_type": "stream",
     "text": [
      "Eigenvalues of A using QR decomposition are:\n",
      "8.999999929425208 & 4.000000070574784 .\n"
     ]
    }
   ],
   "source": [
    "print(\"Eigenvalues of A using QR decomposition are:\")\n",
    "print(A_new[0][0],\"&\",A_new[1][1],\".\")"
   ]
  },
  {
   "cell_type": "code",
   "execution_count": 25,
   "id": "44bcd79f",
   "metadata": {},
   "outputs": [
    {
     "name": "stdout",
     "output_type": "stream",
     "text": [
      "Eigen value of matrix A using in-built library: [4. 9.]\n"
     ]
    }
   ],
   "source": [
    "A=np.array([[5,-2],[-2,8]])\n",
    "Eigen_value, Eigen_vector=np.linalg.eigh(A)\n",
    "print(\"Eigen value of matrix A using in-built library:\",Eigen_value)"
   ]
  },
  {
   "cell_type": "markdown",
   "id": "b55bbb8d",
   "metadata": {},
   "source": [
    "# Question 18"
   ]
  },
  {
   "cell_type": "markdown",
   "id": "aa278eb8",
   "metadata": {},
   "source": [
    "### Power Method"
   ]
  },
  {
   "cell_type": "code",
   "execution_count": 29,
   "id": "8f514f45",
   "metadata": {},
   "outputs": [
    {
     "name": "stdout",
     "output_type": "stream",
     "text": [
      "Dominant Eigenvalue: 3.414141414141414\n",
      "Eigenvector: [ 0.5        -0.70710059  0.5       ]\n"
     ]
    }
   ],
   "source": [
    "A=np.array([[2,-1,0],[-1,2,-1],[0,-1,2]])\n",
    "x=np.array([1,1,1])\n",
    "y=np.array([1,0,0])\n",
    "D=np.dot(x.transpose(),y)\n",
    "del_lamda=1\n",
    "lamda0=0\n",
    "I=np.array([[1,0,0],[0,1,0],[0,0,1]])\n",
    "Am=np.dot(I,x)\n",
    "while del_lamda >0.001:\n",
    "    Am=np.dot(A,Am)\n",
    "    lamda1=np.dot(Am.transpose(),y)/D\n",
    "    del_lamda=np.abs(lamda1-lamda0)\n",
    "    lamda0= lamda1\n",
    "    D=np.dot(Am.transpose(),y)\n",
    "print(\"Dominant Eigenvalue:\",lamda0)\n",
    "Scaling_factor=Am[0]/0.5\n",
    "print(\"Eigenvector:\",Am/Scaling_factor)"
   ]
  },
  {
   "cell_type": "code",
   "execution_count": 31,
   "id": "4c9e805d",
   "metadata": {},
   "outputs": [
    {
     "name": "stdout",
     "output_type": "stream",
     "text": [
      "Eigen value of matrix A using in-built library: 3.414213562373095\n"
     ]
    }
   ],
   "source": [
    "A=np.array([[2,-1,0],[-1,2,-1],[0,-1,2]])\n",
    "Eigen_value, Eigen_vector=np.linalg.eigh(A)\n",
    "print(\"Eigen value of matrix A using in-built library:\",Eigen_value[2])"
   ]
  },
  {
   "cell_type": "markdown",
   "id": "3892b355",
   "metadata": {},
   "source": [
    "# Question 19"
   ]
  },
  {
   "cell_type": "markdown",
   "id": "3bcf5f75",
   "metadata": {},
   "source": [
    "### Singular Value Decomposition"
   ]
  },
  {
   "cell_type": "markdown",
   "id": "650ac42e",
   "metadata": {},
   "source": [
    "#### System 1"
   ]
  },
  {
   "cell_type": "code",
   "execution_count": 32,
   "id": "6f741966",
   "metadata": {},
   "outputs": [],
   "source": [
    "A=np.array([[2,1],[1,0]])\n",
    "start_time=time.time()\n",
    "U,S,V_T=np.linalg.svd(A)\n",
    "svd_time=time.time()-start_time"
   ]
  },
  {
   "cell_type": "code",
   "execution_count": 35,
   "id": "25e809e4",
   "metadata": {},
   "outputs": [
    {
     "name": "stdout",
     "output_type": "stream",
     "text": [
      "Time taken: 0.016473770141601562 sec.\n"
     ]
    }
   ],
   "source": [
    "print(\"Time taken:\",svd_time,\"sec.\")"
   ]
  },
  {
   "cell_type": "code",
   "execution_count": 37,
   "id": "b42c31f0",
   "metadata": {},
   "outputs": [
    {
     "data": {
      "text/latex": [
       "$\\displaystyle \\left[\\begin{matrix}-0.923879532511287 & -0.38268343236509\\\\-0.38268343236509 & 0.923879532511287\\end{matrix}\\right]$"
      ],
      "text/plain": [
       "Matrix([\n",
       "[-0.923879532511287, -0.38268343236509],\n",
       "[ -0.38268343236509, 0.923879532511287]])"
      ]
     },
     "execution_count": 37,
     "metadata": {},
     "output_type": "execute_result"
    }
   ],
   "source": [
    "Matrix(U)"
   ]
  },
  {
   "cell_type": "code",
   "execution_count": 38,
   "id": "15fb27b9",
   "metadata": {},
   "outputs": [],
   "source": [
    "def fill_up_with_zeros(S,m,n):\n",
    "    S_extended=np.zeros((m,n))\n",
    "    for i in range(len(S)):\n",
    "        S_extended[i][i]=S[i]\n",
    "    return S_extended"
   ]
  },
  {
   "cell_type": "code",
   "execution_count": 39,
   "id": "70a8a01c",
   "metadata": {},
   "outputs": [
    {
     "data": {
      "text/latex": [
       "$\\displaystyle \\left[\\begin{matrix}2.4142135623731 & 0\\\\0 & 0.414213562373095\\end{matrix}\\right]$"
      ],
      "text/plain": [
       "Matrix([\n",
       "[2.4142135623731,                 0],\n",
       "[              0, 0.414213562373095]])"
      ]
     },
     "execution_count": 39,
     "metadata": {},
     "output_type": "execute_result"
    }
   ],
   "source": [
    "S= fill_up_with_zeros(S,2,2)\n",
    "Matrix(S)"
   ]
  },
  {
   "cell_type": "code",
   "execution_count": 40,
   "id": "b0b86049",
   "metadata": {},
   "outputs": [
    {
     "data": {
      "text/latex": [
       "$\\displaystyle \\left[\\begin{matrix}-0.923879532511287 & -0.38268343236509\\\\0.38268343236509 & -0.923879532511287\\end{matrix}\\right]$"
      ],
      "text/plain": [
       "Matrix([\n",
       "[-0.923879532511287,  -0.38268343236509],\n",
       "[  0.38268343236509, -0.923879532511287]])"
      ]
     },
     "execution_count": 40,
     "metadata": {},
     "output_type": "execute_result"
    }
   ],
   "source": [
    "Matrix(V_T)"
   ]
  },
  {
   "cell_type": "code",
   "execution_count": 41,
   "id": "be54d618",
   "metadata": {},
   "outputs": [
    {
     "data": {
      "text/latex": [
       "$\\displaystyle \\left[\\begin{matrix}2.0 & 1.0\\\\1.0 & -3.81016887278921 \\cdot 10^{-17}\\end{matrix}\\right]$"
      ],
      "text/plain": [
       "Matrix([\n",
       "[2.0,                   1.0],\n",
       "[1.0, -3.81016887278921e-17]])"
      ]
     },
     "execution_count": 41,
     "metadata": {},
     "output_type": "execute_result"
    }
   ],
   "source": [
    "Matrix(np.dot(np.dot(U,S),V_T))"
   ]
  },
  {
   "cell_type": "code",
   "execution_count": 42,
   "id": "55b2ad2b",
   "metadata": {},
   "outputs": [
    {
     "data": {
      "text/latex": [
       "$\\displaystyle \\left[\\begin{matrix}2 & 1\\\\1 & 0\\end{matrix}\\right]$"
      ],
      "text/plain": [
       "Matrix([\n",
       "[2, 1],\n",
       "[1, 0]])"
      ]
     },
     "execution_count": 42,
     "metadata": {},
     "output_type": "execute_result"
    }
   ],
   "source": [
    "Matrix(A)"
   ]
  },
  {
   "cell_type": "markdown",
   "id": "015db3b1",
   "metadata": {},
   "source": [
    "##### We see that matrix A and matrix (USV_T) are same. So, decomposition was correct."
   ]
  },
  {
   "cell_type": "code",
   "execution_count": null,
   "id": "ec15cb4a",
   "metadata": {},
   "outputs": [],
   "source": []
  },
  {
   "cell_type": "markdown",
   "id": "79f2d672",
   "metadata": {},
   "source": [
    "#### System 2"
   ]
  },
  {
   "cell_type": "code",
   "execution_count": 43,
   "id": "65d92491",
   "metadata": {},
   "outputs": [],
   "source": [
    "A=np.array([[2,1],[1,0],[0,1]])\n",
    "start_time=time.time()\n",
    "U,S,V_T=np.linalg.svd(A)\n",
    "svd_time=time.time()-start_time"
   ]
  },
  {
   "cell_type": "code",
   "execution_count": 44,
   "id": "9e18ed0c",
   "metadata": {},
   "outputs": [
    {
     "name": "stdout",
     "output_type": "stream",
     "text": [
      "Time taken: 0.00500178337097168 sec.\n"
     ]
    }
   ],
   "source": [
    "print(\"Time taken:\",svd_time,\"sec.\")"
   ]
  },
  {
   "cell_type": "code",
   "execution_count": 45,
   "id": "21103e11",
   "metadata": {},
   "outputs": [
    {
     "data": {
      "text/latex": [
       "$\\displaystyle \\left[\\begin{matrix}-0.912870929175277 & 4.80183453304857 \\cdot 10^{-17} & -0.408248290463863\\\\-0.365148371670111 & -0.447213595499958 & 0.816496580927726\\\\-0.182574185835055 & 0.894427190999916 & 0.408248290463863\\end{matrix}\\right]$"
      ],
      "text/plain": [
       "Matrix([\n",
       "[-0.912870929175277, 4.80183453304857e-17, -0.408248290463863],\n",
       "[-0.365148371670111,   -0.447213595499958,  0.816496580927726],\n",
       "[-0.182574185835055,    0.894427190999916,  0.408248290463863]])"
      ]
     },
     "execution_count": 45,
     "metadata": {},
     "output_type": "execute_result"
    }
   ],
   "source": [
    "Matrix(U)"
   ]
  },
  {
   "cell_type": "code",
   "execution_count": 46,
   "id": "4859729f",
   "metadata": {},
   "outputs": [
    {
     "data": {
      "text/latex": [
       "$\\displaystyle \\left[\\begin{matrix}2.44948974278318 & 0\\\\0 & 1.0\\\\0 & 0\\end{matrix}\\right]$"
      ],
      "text/plain": [
       "Matrix([\n",
       "[2.44948974278318,   0],\n",
       "[               0, 1.0],\n",
       "[               0,   0]])"
      ]
     },
     "execution_count": 46,
     "metadata": {},
     "output_type": "execute_result"
    }
   ],
   "source": [
    "S=fill_up_with_zeros(S,3,2)\n",
    "Matrix(S)"
   ]
  },
  {
   "cell_type": "code",
   "execution_count": 47,
   "id": "1c7dccd9",
   "metadata": {},
   "outputs": [
    {
     "data": {
      "text/latex": [
       "$\\displaystyle \\left[\\begin{matrix}-0.894427190999916 & -0.447213595499958\\\\-0.447213595499958 & 0.894427190999916\\end{matrix}\\right]$"
      ],
      "text/plain": [
       "Matrix([\n",
       "[-0.894427190999916, -0.447213595499958],\n",
       "[-0.447213595499958,  0.894427190999916]])"
      ]
     },
     "execution_count": 47,
     "metadata": {},
     "output_type": "execute_result"
    }
   ],
   "source": [
    "Matrix(V_T)"
   ]
  },
  {
   "cell_type": "code",
   "execution_count": 48,
   "id": "5f5b28dd",
   "metadata": {},
   "outputs": [
    {
     "data": {
      "text/latex": [
       "$\\displaystyle \\left[\\begin{matrix}2.0 & 1.0\\\\1.0 & -6.81060746346194 \\cdot 10^{-17}\\\\-1.23617225865877 \\cdot 10^{-16} & 1.0\\end{matrix}\\right]$"
      ],
      "text/plain": [
       "Matrix([\n",
       "[                  2.0,                   1.0],\n",
       "[                  1.0, -6.81060746346194e-17],\n",
       "[-1.23617225865877e-16,                   1.0]])"
      ]
     },
     "execution_count": 48,
     "metadata": {},
     "output_type": "execute_result"
    }
   ],
   "source": [
    "Matrix(np.dot(np.dot(U,S),V_T))"
   ]
  },
  {
   "cell_type": "code",
   "execution_count": 50,
   "id": "a3fe2480",
   "metadata": {},
   "outputs": [
    {
     "data": {
      "text/latex": [
       "$\\displaystyle \\left[\\begin{matrix}2 & 1\\\\1 & 0\\\\0 & 1\\end{matrix}\\right]$"
      ],
      "text/plain": [
       "Matrix([\n",
       "[2, 1],\n",
       "[1, 0],\n",
       "[0, 1]])"
      ]
     },
     "execution_count": 50,
     "metadata": {},
     "output_type": "execute_result"
    }
   ],
   "source": [
    "Matrix(A)"
   ]
  },
  {
   "cell_type": "markdown",
   "id": "b2741774",
   "metadata": {},
   "source": [
    "##### We see that matrix A and matrix (USV_T) are same. So, decomposition was correct."
   ]
  },
  {
   "cell_type": "code",
   "execution_count": null,
   "id": "d2767dd4",
   "metadata": {},
   "outputs": [],
   "source": []
  },
  {
   "cell_type": "markdown",
   "id": "a6d4d2ce",
   "metadata": {},
   "source": [
    "#### System 3"
   ]
  },
  {
   "cell_type": "code",
   "execution_count": 53,
   "id": "e1ed3f02",
   "metadata": {},
   "outputs": [],
   "source": [
    "A=np.array([[2,1],[-1,1],[1,1],[2,-1]])\n",
    "start_time=time.time()\n",
    "U,S,V_T=np.linalg.svd(A)\n",
    "svd_time=time.time()-start_time"
   ]
  },
  {
   "cell_type": "code",
   "execution_count": 54,
   "id": "5ab1cbf4",
   "metadata": {},
   "outputs": [
    {
     "name": "stdout",
     "output_type": "stream",
     "text": [
      "Time taken: 0.0009996891021728516 sec.\n"
     ]
    }
   ],
   "source": [
    "print(\"Time taken:\",svd_time,\"sec.\")"
   ]
  },
  {
   "cell_type": "code",
   "execution_count": 55,
   "id": "b066be1b",
   "metadata": {},
   "outputs": [
    {
     "data": {
      "text/latex": [
       "$\\displaystyle \\left[\\begin{matrix}-0.632455532033676 & -0.5 & -0.522293212310753 & -0.277866515388441\\\\0.316227766016838 & -0.5 & -0.301968572864907 & 0.747539283918866\\\\-0.316227766016838 & -0.5 & 0.797047140702639 & 0.121308925878299\\\\-0.632455532033676 & 0.5 & -0.0272146444730205 & 0.590981694408725\\end{matrix}\\right]$"
      ],
      "text/plain": [
       "Matrix([\n",
       "[-0.632455532033676, -0.5,  -0.522293212310753, -0.277866515388441],\n",
       "[ 0.316227766016838, -0.5,  -0.301968572864907,  0.747539283918866],\n",
       "[-0.316227766016838, -0.5,   0.797047140702639,  0.121308925878299],\n",
       "[-0.632455532033676,  0.5, -0.0272146444730205,  0.590981694408725]])"
      ]
     },
     "execution_count": 55,
     "metadata": {},
     "output_type": "execute_result"
    }
   ],
   "source": [
    "Matrix(U)"
   ]
  },
  {
   "cell_type": "code",
   "execution_count": 56,
   "id": "a73c1f02",
   "metadata": {},
   "outputs": [
    {
     "data": {
      "text/latex": [
       "$\\displaystyle \\left[\\begin{matrix}3.16227766016838 & 0\\\\0 & 2.0\\\\0 & 0\\\\0 & 0\\end{matrix}\\right]$"
      ],
      "text/plain": [
       "Matrix([\n",
       "[3.16227766016838,   0],\n",
       "[               0, 2.0],\n",
       "[               0,   0],\n",
       "[               0,   0]])"
      ]
     },
     "execution_count": 56,
     "metadata": {},
     "output_type": "execute_result"
    }
   ],
   "source": [
    "S=fill_up_with_zeros(S,4,2)\n",
    "Matrix(S)"
   ]
  },
  {
   "cell_type": "code",
   "execution_count": 57,
   "id": "b6f874ea",
   "metadata": {},
   "outputs": [
    {
     "data": {
      "text/latex": [
       "$\\displaystyle \\left[\\begin{matrix}-1.0 & 0\\\\0 & -1.0\\end{matrix}\\right]$"
      ],
      "text/plain": [
       "Matrix([\n",
       "[-1.0,    0],\n",
       "[   0, -1.0]])"
      ]
     },
     "execution_count": 57,
     "metadata": {},
     "output_type": "execute_result"
    }
   ],
   "source": [
    "Matrix(V_T)"
   ]
  },
  {
   "cell_type": "code",
   "execution_count": 58,
   "id": "7e50f5b9",
   "metadata": {},
   "outputs": [
    {
     "data": {
      "text/latex": [
       "$\\displaystyle \\left[\\begin{matrix}2.0 & 1.0\\\\-1.0 & 1.0\\\\1.0 & 1.0\\\\2.0 & -1.0\\end{matrix}\\right]$"
      ],
      "text/plain": [
       "Matrix([\n",
       "[ 2.0,  1.0],\n",
       "[-1.0,  1.0],\n",
       "[ 1.0,  1.0],\n",
       "[ 2.0, -1.0]])"
      ]
     },
     "execution_count": 58,
     "metadata": {},
     "output_type": "execute_result"
    }
   ],
   "source": [
    "Matrix(np.dot(np.dot(U,S),V_T))"
   ]
  },
  {
   "cell_type": "code",
   "execution_count": 59,
   "id": "3d915069",
   "metadata": {},
   "outputs": [
    {
     "data": {
      "text/latex": [
       "$\\displaystyle \\left[\\begin{matrix}2 & 1\\\\-1 & 1\\\\1 & 1\\\\2 & -1\\end{matrix}\\right]$"
      ],
      "text/plain": [
       "Matrix([\n",
       "[ 2,  1],\n",
       "[-1,  1],\n",
       "[ 1,  1],\n",
       "[ 2, -1]])"
      ]
     },
     "execution_count": 59,
     "metadata": {},
     "output_type": "execute_result"
    }
   ],
   "source": [
    "Matrix(A)"
   ]
  },
  {
   "cell_type": "markdown",
   "id": "07caa7c3",
   "metadata": {},
   "source": [
    "##### We see that matrix A and matrix (USV_T) are same. So, decomposition was correct."
   ]
  },
  {
   "cell_type": "code",
   "execution_count": null,
   "id": "cf60786d",
   "metadata": {},
   "outputs": [],
   "source": []
  },
  {
   "cell_type": "markdown",
   "id": "d6e8c674",
   "metadata": {},
   "source": [
    "#### System 4"
   ]
  },
  {
   "cell_type": "code",
   "execution_count": 60,
   "id": "21e0363d",
   "metadata": {},
   "outputs": [],
   "source": [
    "A=np.array([[1,1,0],[-1,0,1],[0,1,-1],[1,1,-1]])\n",
    "start_time=time.time()\n",
    "U,S,V_T=np.linalg.svd(A)\n",
    "svd_time=time.time()-start_time"
   ]
  },
  {
   "cell_type": "code",
   "execution_count": 61,
   "id": "851e8f2b",
   "metadata": {},
   "outputs": [
    {
     "name": "stdout",
     "output_type": "stream",
     "text": [
      "Time taken: 0.001413583755493164 sec.\n"
     ]
    }
   ],
   "source": [
    "print(\"Time taken:\",svd_time,\"sec.\")"
   ]
  },
  {
   "cell_type": "code",
   "execution_count": 62,
   "id": "7fbfc8ca",
   "metadata": {},
   "outputs": [
    {
     "data": {
      "text/latex": [
       "$\\displaystyle \\left[\\begin{matrix}-0.436435780471985 & -0.408248290463863 & 0.707106781186547 & -0.377964473009227\\\\0.436435780471985 & 0.408248290463863 & 0.707106781186548 & 0.377964473009227\\\\-0.436435780471985 & 0.816496580927726 & -1.77001981877615 \\cdot 10^{-16} & -0.377964473009227\\\\-0.654653670707977 & -7.49205180133081 \\cdot 10^{-17} & -1.19230075411084 \\cdot 10^{-16} & 0.755928946018454\\end{matrix}\\right]$"
      ],
      "text/plain": [
       "Matrix([\n",
       "[-0.436435780471985,    -0.408248290463863,     0.707106781186547, -0.377964473009227],\n",
       "[ 0.436435780471985,     0.408248290463863,     0.707106781186548,  0.377964473009227],\n",
       "[-0.436435780471985,     0.816496580927726, -1.77001981877615e-16, -0.377964473009227],\n",
       "[-0.654653670707977, -7.49205180133081e-17, -1.19230075411084e-16,  0.755928946018454]])"
      ]
     },
     "execution_count": 62,
     "metadata": {},
     "output_type": "execute_result"
    }
   ],
   "source": [
    "Matrix(U)"
   ]
  },
  {
   "cell_type": "code",
   "execution_count": 63,
   "id": "ad2fc21e",
   "metadata": {},
   "outputs": [
    {
     "data": {
      "text/latex": [
       "$\\displaystyle \\left[\\begin{matrix}2.64575131106459 & 0 & 0\\\\0 & 1.0 & 0\\\\0 & 0 & 1.0\\\\0 & 0 & 0\\end{matrix}\\right]$"
      ],
      "text/plain": [
       "Matrix([\n",
       "[2.64575131106459,   0,   0],\n",
       "[               0, 1.0,   0],\n",
       "[               0,   0, 1.0],\n",
       "[               0,   0,   0]])"
      ]
     },
     "execution_count": 63,
     "metadata": {},
     "output_type": "execute_result"
    }
   ],
   "source": [
    "S=fill_up_with_zeros(S,4,3)\n",
    "Matrix(S)"
   ]
  },
  {
   "cell_type": "code",
   "execution_count": 64,
   "id": "3b68cc8b",
   "metadata": {},
   "outputs": [
    {
     "data": {
      "text/latex": [
       "$\\displaystyle \\left[\\begin{matrix}-0.577350269189626 & -0.577350269189626 & 0.577350269189626\\\\-0.816496580927726 & 0.408248290463863 & -0.408248290463863\\\\0 & 0.707106781186547 & 0.707106781186548\\end{matrix}\\right]$"
      ],
      "text/plain": [
       "Matrix([\n",
       "[-0.577350269189626, -0.577350269189626,  0.577350269189626],\n",
       "[-0.816496580927726,  0.408248290463863, -0.408248290463863],\n",
       "[                 0,  0.707106781186547,  0.707106781186548]])"
      ]
     },
     "execution_count": 64,
     "metadata": {},
     "output_type": "execute_result"
    }
   ],
   "source": [
    "Matrix(V_T)"
   ]
  },
  {
   "cell_type": "code",
   "execution_count": 65,
   "id": "6e6d2055",
   "metadata": {},
   "outputs": [
    {
     "data": {
      "text/latex": [
       "$\\displaystyle \\left[\\begin{matrix}1.0 & 1.0 & 1.33393445633273 \\cdot 10^{-16}\\\\-1.0 & -1.99673461754274 \\cdot 10^{-16} & 1.0\\\\1.61842956344201 \\cdot 10^{-16} & 1.0 & -1.0\\\\1.0 & 1.0 & -1.0\\end{matrix}\\right]$"
      ],
      "text/plain": [
       "Matrix([\n",
       "[                 1.0,                   1.0, 1.33393445633273e-16],\n",
       "[                -1.0, -1.99673461754274e-16,                  1.0],\n",
       "[1.61842956344201e-16,                   1.0,                 -1.0],\n",
       "[                 1.0,                   1.0,                 -1.0]])"
      ]
     },
     "execution_count": 65,
     "metadata": {},
     "output_type": "execute_result"
    }
   ],
   "source": [
    "Matrix(np.dot(np.dot(U,S),V_T))"
   ]
  },
  {
   "cell_type": "code",
   "execution_count": 66,
   "id": "aae4fc77",
   "metadata": {},
   "outputs": [
    {
     "data": {
      "text/latex": [
       "$\\displaystyle \\left[\\begin{matrix}1 & 1 & 0\\\\-1 & 0 & 1\\\\0 & 1 & -1\\\\1 & 1 & -1\\end{matrix}\\right]$"
      ],
      "text/plain": [
       "Matrix([\n",
       "[ 1, 1,  0],\n",
       "[-1, 0,  1],\n",
       "[ 0, 1, -1],\n",
       "[ 1, 1, -1]])"
      ]
     },
     "execution_count": 66,
     "metadata": {},
     "output_type": "execute_result"
    }
   ],
   "source": [
    "Matrix(A)"
   ]
  },
  {
   "cell_type": "markdown",
   "id": "c3ad6a88",
   "metadata": {},
   "source": [
    "##### We see that matrix A and matrix (USV_T) are same. So, decomposition was correct."
   ]
  },
  {
   "cell_type": "code",
   "execution_count": null,
   "id": "227560cf",
   "metadata": {},
   "outputs": [],
   "source": []
  },
  {
   "cell_type": "markdown",
   "id": "f5cb5ed5",
   "metadata": {},
   "source": [
    "#### System 5"
   ]
  },
  {
   "cell_type": "code",
   "execution_count": 67,
   "id": "4bd04886",
   "metadata": {},
   "outputs": [],
   "source": [
    "A=np.array([[0,1,1],[0,1,0],[1,1,0],[0,1,0],[1,0,1]])\n",
    "start_time=time.time()\n",
    "U,S,V_T=np.linalg.svd(A)\n",
    "svd_time=time.time()-start_time"
   ]
  },
  {
   "cell_type": "code",
   "execution_count": 68,
   "id": "5da63262",
   "metadata": {},
   "outputs": [
    {
     "name": "stdout",
     "output_type": "stream",
     "text": [
      "Time taken: 0.0028018951416015625 sec.\n"
     ]
    }
   ],
   "source": [
    "print(\"Time taken:\",svd_time,\"sec.\")"
   ]
  },
  {
   "cell_type": "code",
   "execution_count": 69,
   "id": "ce3aeb61",
   "metadata": {},
   "outputs": [
    {
     "data": {
      "text/latex": [
       "$\\displaystyle \\left[\\begin{matrix}-0.547722557505166 & -5.49521712695283 \\cdot 10^{-16} & -0.707106781186548 & -0.132058462551819 & -0.42727106439408\\\\-0.365148371670111 & -0.408248290463863 & 5.43210214943126 \\cdot 10^{-17} & -0.543516408333063 & 0.63607382737598\\\\-0.547722557505166 & 4.24980527316951 \\cdot 10^{-16} & 0.707106781186548 & -0.132058462551819 & -0.42727106439408\\\\-0.365148371670111 & -0.408248290463863 & 4.25921500823187 \\cdot 10^{-17} & 0.807633333436701 & 0.21846830141218\\\\-0.365148371670111 & 0.816496580927726 & -5.15968331031669 \\cdot 10^{-16} & 0.132058462551819 & 0.42727106439408\\end{matrix}\\right]$"
      ],
      "text/plain": [
       "Matrix([\n",
       "[-0.547722557505166, -5.49521712695283e-16,    -0.707106781186548, -0.132058462551819, -0.42727106439408],\n",
       "[-0.365148371670111,    -0.408248290463863,  5.43210214943126e-17, -0.543516408333063,  0.63607382737598],\n",
       "[-0.547722557505166,  4.24980527316951e-16,     0.707106781186548, -0.132058462551819, -0.42727106439408],\n",
       "[-0.365148371670111,    -0.408248290463863,  4.25921500823187e-17,  0.807633333436701,  0.21846830141218],\n",
       "[-0.365148371670111,     0.816496580927726, -5.15968331031669e-16,  0.132058462551819,  0.42727106439408]])"
      ]
     },
     "execution_count": 69,
     "metadata": {},
     "output_type": "execute_result"
    }
   ],
   "source": [
    "Matrix(U)"
   ]
  },
  {
   "cell_type": "code",
   "execution_count": 70,
   "id": "e2dec783",
   "metadata": {},
   "outputs": [
    {
     "data": {
      "text/latex": [
       "$\\displaystyle \\left[\\begin{matrix}2.23606797749979 & 0 & 0\\\\0 & 1.4142135623731 & 0\\\\0 & 0 & 1.0\\\\0 & 0 & 0\\\\0 & 0 & 0\\end{matrix}\\right]$"
      ],
      "text/plain": [
       "Matrix([\n",
       "[2.23606797749979,               0,   0],\n",
       "[               0, 1.4142135623731,   0],\n",
       "[               0,               0, 1.0],\n",
       "[               0,               0,   0],\n",
       "[               0,               0,   0]])"
      ]
     },
     "execution_count": 70,
     "metadata": {},
     "output_type": "execute_result"
    }
   ],
   "source": [
    "S=fill_up_with_zeros(S,5,3)\n",
    "Matrix(S)"
   ]
  },
  {
   "cell_type": "code",
   "execution_count": 71,
   "id": "870bd2f4",
   "metadata": {},
   "outputs": [
    {
     "data": {
      "text/latex": [
       "$\\displaystyle \\left[\\begin{matrix}-0.408248290463863 & -0.816496580927726 & -0.408248290463863\\\\0.577350269189626 & -0.577350269189626 & 0.577350269189625\\\\0.707106781186547 & 3.86299829349208 \\cdot 10^{-17} & -0.707106781186548\\end{matrix}\\right]$"
      ],
      "text/plain": [
       "Matrix([\n",
       "[-0.408248290463863,   -0.816496580927726, -0.408248290463863],\n",
       "[ 0.577350269189626,   -0.577350269189626,  0.577350269189625],\n",
       "[ 0.707106781186547, 3.86299829349208e-17, -0.707106781186548]])"
      ]
     },
     "execution_count": 71,
     "metadata": {},
     "output_type": "execute_result"
    }
   ],
   "source": [
    "Matrix(V_T)"
   ]
  },
  {
   "cell_type": "code",
   "execution_count": 72,
   "id": "f9f21d4d",
   "metadata": {},
   "outputs": [
    {
     "data": {
      "text/latex": [
       "$\\displaystyle \\left[\\begin{matrix}-3.32444578855373 \\cdot 10^{-16} & 1.0 & 0.999999999999999\\\\-2.06450527071475 \\cdot 10^{-16} & 1.0 & -1.67647666288741 \\cdot 10^{-16}\\\\1.0 & 0.999999999999999 & -3.03871955379186 \\cdot 10^{-16}\\\\-2.14744091582561 \\cdot 10^{-16} & 1.0 & -1.59354101777655 \\cdot 10^{-16}\\\\1.0 & -3.44349857073541 \\cdot 10^{-16} & 1.0\\end{matrix}\\right]$"
      ],
      "text/plain": [
       "Matrix([\n",
       "[-3.32444578855373e-16,                   1.0,     0.999999999999999],\n",
       "[-2.06450527071475e-16,                   1.0, -1.67647666288741e-16],\n",
       "[                  1.0,     0.999999999999999, -3.03871955379186e-16],\n",
       "[-2.14744091582561e-16,                   1.0, -1.59354101777655e-16],\n",
       "[                  1.0, -3.44349857073541e-16,                   1.0]])"
      ]
     },
     "execution_count": 72,
     "metadata": {},
     "output_type": "execute_result"
    }
   ],
   "source": [
    "Matrix(np.dot(np.dot(U,S),V_T))"
   ]
  },
  {
   "cell_type": "code",
   "execution_count": 73,
   "id": "ce3ca768",
   "metadata": {},
   "outputs": [
    {
     "data": {
      "text/latex": [
       "$\\displaystyle \\left[\\begin{matrix}0 & 1 & 1\\\\0 & 1 & 0\\\\1 & 1 & 0\\\\0 & 1 & 0\\\\1 & 0 & 1\\end{matrix}\\right]$"
      ],
      "text/plain": [
       "Matrix([\n",
       "[0, 1, 1],\n",
       "[0, 1, 0],\n",
       "[1, 1, 0],\n",
       "[0, 1, 0],\n",
       "[1, 0, 1]])"
      ]
     },
     "execution_count": 73,
     "metadata": {},
     "output_type": "execute_result"
    }
   ],
   "source": [
    "Matrix(A)"
   ]
  },
  {
   "cell_type": "markdown",
   "id": "f39e2430",
   "metadata": {},
   "source": [
    "##### We see that matrix A and matrix (USV_T) are same. So, decomposition was correct."
   ]
  },
  {
   "cell_type": "code",
   "execution_count": null,
   "id": "079c4ccd",
   "metadata": {},
   "outputs": [],
   "source": []
  },
  {
   "cell_type": "markdown",
   "id": "af925d9c",
   "metadata": {},
   "source": [
    "# Question 9"
   ]
  },
  {
   "cell_type": "markdown",
   "id": "9f05f875",
   "metadata": {},
   "source": [
    "##### Jacobi method under L_inf norm"
   ]
  },
  {
   "cell_type": "code",
   "execution_count": 79,
   "id": "032fa6a1",
   "metadata": {},
   "outputs": [],
   "source": [
    "def larg(A):\n",
    "    l=len(A)\n",
    "    m=abs(A[0])\n",
    "    for i in range(1,n):\n",
    "        if(abs(A[i]>m)):\n",
    "            m=A[i]\n",
    "    return m"
   ]
  },
  {
   "cell_type": "code",
   "execution_count": 86,
   "id": "8c8fffb7",
   "metadata": {},
   "outputs": [
    {
     "name": "stdout",
     "output_type": "stream",
     "text": [
      "10 no of iterations needed to reach true solution within tolerance of 0.1% under the L_infinity norm.\n",
      "x 0 : [0. 0. 0.]\n",
      "x 1 : [0.33333333 0.         0.57142857]\n",
      "x 2 : [ 0.14285714 -0.35714286  0.42857143]\n",
      "x 3 : [ 0.07142857 -0.21428571  0.66326531]\n",
      "x 4 : [ 0.04081633 -0.25680272  0.63265306]\n",
      "x 5 : [ 0.03684807 -0.23129252  0.66399417]\n",
      "x 6 : [ 0.03490444 -0.23975543  0.6547619 ]\n",
      "x 7 : [ 0.03516089 -0.23570619  0.65922185]\n",
      "x 8 : [ 0.03502399 -0.23732106  0.65737656]\n",
      "x 9 : [ 0.03510079 -0.23663751  0.65812732]\n",
      "x 10 : [ 0.03507839 -0.23692617  0.65780145]\n"
     ]
    },
    {
     "name": "stderr",
     "output_type": "stream",
     "text": [
      "C:\\Users\\HP\\AppData\\Local\\Temp/ipykernel_33752/2672546712.py:27: RuntimeWarning: divide by zero encountered in double_scalars\n",
      "  SS=abs((s1-s2)*100/s2)\n"
     ]
    }
   ],
   "source": [
    "#System 1\n",
    "A=np.array([[3,-1,1],[3,6,2],[3,3,7]])\n",
    "b=np.array([1,0,4])\n",
    "n=3\n",
    "X=[]\n",
    "x0=np.zeros(n)\n",
    "X.append(x0)\n",
    "#Initialize\n",
    "xk=np.zeros(n)\n",
    "SS=1.0\n",
    "while SS>0.1:\n",
    "    x=np.zeros(n)\n",
    "    for i in range(n):\n",
    "        xkm1=xk\n",
    "        S=0\n",
    "        for j in range(n):\n",
    "            if (i!=j):\n",
    "                S=S-A[i][j]*xkm1[j]\n",
    "            \n",
    "        x[i]=(S + b[i])/A[i][i]\n",
    "    xk=x\n",
    "    X.append(x)\n",
    "    l=len(X)\n",
    "    if l>1:\n",
    "        s1=larg(X[l-1])\n",
    "        s2=larg(X[l-2])\n",
    "        SS=abs((s1-s2)*100/s2)\n",
    "\n",
    "l=len(X)\n",
    "print(l-1,\"no of iterations needed to reach true solution within tolerance of 0.1% under the L_infinity norm.\")\n",
    "for i in range(l):\n",
    "    print(\"x\",i,\":\",X[i])"
   ]
  },
  {
   "cell_type": "markdown",
   "id": "b7fcdfe7",
   "metadata": {},
   "source": [
    "# Question 10"
   ]
  },
  {
   "cell_type": "markdown",
   "id": "b19607ac",
   "metadata": {},
   "source": [
    "##### Gauss-Seidel method under L_inf norm"
   ]
  },
  {
   "cell_type": "code",
   "execution_count": 87,
   "id": "405ffa97",
   "metadata": {},
   "outputs": [
    {
     "name": "stdout",
     "output_type": "stream",
     "text": [
      "6 no of iterations needed to reach true solution within tolerance of 0.1% under the L_infinity norm.\n",
      "x 0 : [0.0, 0.0, 0.0]\n",
      "x 1 : [0.3333333333333333, -0.16666666666666666, 0.5]\n",
      "x 2 : [0.11111111111111112, -0.22222222222222224, 0.619047619047619]\n",
      "x 3 : [0.05291005291005294, -0.2328042328042328, 0.6485260770975056]\n",
      "x 4 : [0.039556563366087184, -0.23595364071554548, 0.6555987474354821]\n",
      "x 5 : [0.03614920394965748, -0.2366075177866561, 0.6573392773587138]\n",
      "x 6 : [0.0353510682848767, -0.23678862659534294, 0.6577589535616284]\n"
     ]
    },
    {
     "name": "stderr",
     "output_type": "stream",
     "text": [
      "C:\\Users\\HP\\AppData\\Local\\Temp/ipykernel_33752/1180914022.py:29: RuntimeWarning: divide by zero encountered in double_scalars\n",
      "  SS=abs((s1-s2)*100/s2)\n"
     ]
    }
   ],
   "source": [
    "#System 1\n",
    "A=np.array([[3,-1,1],[3,6,2],[3,3,7]])\n",
    "b=np.array([1,0,4])\n",
    "\n",
    "n=3\n",
    "X=[]\n",
    "x0=np.zeros(n).tolist()\n",
    "X.append(x0)\n",
    "\n",
    "#Initialize\n",
    "xk=np.zeros(n).tolist()\n",
    "SS=1.0\n",
    "while SS>0.1:\n",
    "    x=np.zeros(n).tolist()\n",
    "    for i in range(n):\n",
    "        S=0\n",
    "        for j in range(n):\n",
    "            if (i!=j):\n",
    "                S=S-A[i][j]*xk[j]\n",
    "            \n",
    "        m=(S + b[i])/A[i][i]\n",
    "        xk[i]=m\n",
    "        x[i]=m\n",
    "    X.append(x)\n",
    "    l=len(X)\n",
    "    if l>1:\n",
    "        s1=larg(X[l-1])\n",
    "        s2=larg(X[l-2])\n",
    "        SS=abs((s1-s2)*100/s2)\n",
    "    \n",
    "    \n",
    "l=len(X)\n",
    "print(l-1,\"no of iterations needed to reach true solution within tolerance of 0.1% under the L_infinity norm.\")\n",
    "for i in range(l):\n",
    "    print(\"x\",i,\":\",X[i])"
   ]
  },
  {
   "cell_type": "code",
   "execution_count": null,
   "id": "9fa66a55",
   "metadata": {},
   "outputs": [],
   "source": [
    "#System 1\n",
    "#A=np.array([[3,-1,1],[3,6,2],[3,3,7]])\n",
    "#b=np.array([1,0,4])\n",
    "#System 2\n",
    "#A=np.array([[10,-1,0],[-1,10,-2],[0,-2,10]])\n",
    "#b=np.array([9,7,6])\n",
    "#System 3\n",
    "#A=np.array([[10,5,0,0],[5,10,-4,0],[0,-4,8,-1],[0,0,-1,5]])\n",
    "#b=np.array([6,25,-11,-11])\n",
    "#System 4\n",
    "#A=np.array([[4,1,1,0,1],[-1,-3,1,1,0],[2,1,5,-1,-1],[-1,-1,-1,4,0],[0,2,-1,1,4]])\n",
    "#b=np.array([6,6,6,6,6])"
   ]
  },
  {
   "cell_type": "code",
   "execution_count": null,
   "id": "18f54db3",
   "metadata": {},
   "outputs": [],
   "source": []
  }
 ],
 "metadata": {
  "kernelspec": {
   "display_name": "Python 3 (ipykernel)",
   "language": "python",
   "name": "python3"
  },
  "language_info": {
   "codemirror_mode": {
    "name": "ipython",
    "version": 3
   },
   "file_extension": ".py",
   "mimetype": "text/x-python",
   "name": "python",
   "nbconvert_exporter": "python",
   "pygments_lexer": "ipython3",
   "version": "3.9.7"
  }
 },
 "nbformat": 4,
 "nbformat_minor": 5
}
